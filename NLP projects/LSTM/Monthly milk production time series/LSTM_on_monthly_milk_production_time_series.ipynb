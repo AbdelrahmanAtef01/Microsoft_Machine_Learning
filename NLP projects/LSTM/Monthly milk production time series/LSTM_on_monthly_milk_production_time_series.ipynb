{
  "nbformat": 4,
  "nbformat_minor": 0,
  "metadata": {
    "colab": {
      "provenance": []
    },
    "kernelspec": {
      "name": "python3",
      "display_name": "Python 3"
    },
    "language_info": {
      "name": "python"
    }
  },
  "cells": [
    {
      "cell_type": "markdown",
      "source": [
        "# Importing libraries"
      ],
      "metadata": {
        "id": "l5kfEj0BEKHx"
      }
    },
    {
      "cell_type": "code",
      "execution_count": 29,
      "metadata": {
        "id": "UJVlE1mkOIZs"
      },
      "outputs": [],
      "source": [
        "import pandas as pd\n",
        "import numpy as np\n",
        "import matplotlib.pyplot as plt\n",
        "from sklearn.preprocessing import MinMaxScaler\n",
        "from tensorflow.keras.preprocessing.sequence import TimeseriesGenerator # Import from tensorflow.keras instead of just keras\n",
        "from keras.models import Sequential\n",
        "from keras.layers import Dense\n",
        "from keras.layers import LSTM\n",
        "from sklearn.metrics import mean_squared_error\n",
        "from math import sqrt"
      ]
    },
    {
      "cell_type": "markdown",
      "source": [
        "# Reading the dataset"
      ],
      "metadata": {
        "id": "ioRC_QfHEQzg"
      }
    },
    {
      "cell_type": "code",
      "source": [
        "from google.colab import drive\n",
        "drive.mount('/content/drive')"
      ],
      "metadata": {
        "colab": {
          "base_uri": "https://localhost:8080/"
        },
        "id": "DA45p-gy9gPK",
        "outputId": "4d15fc96-a3b9-407b-fe5b-ef0fcabd5cd7"
      },
      "execution_count": 2,
      "outputs": [
        {
          "output_type": "stream",
          "name": "stdout",
          "text": [
            "Mounted at /content/drive\n"
          ]
        }
      ]
    },
    {
      "cell_type": "code",
      "source": [
        "df = pd.read_csv('/content/drive/MyDrive/Data sets/monthly_milk_production.csv',index_col='Date',parse_dates=True)\n",
        "df.index.freq='MS'"
      ],
      "metadata": {
        "id": "V2FyV2goOvuv"
      },
      "execution_count": 3,
      "outputs": []
    },
    {
      "cell_type": "markdown",
      "source": [
        "# Visualizing the data"
      ],
      "metadata": {
        "id": "HZBVAMG0Eba8"
      }
    },
    {
      "cell_type": "code",
      "source": [
        "df.head()"
      ],
      "metadata": {
        "colab": {
          "base_uri": "https://localhost:8080/",
          "height": 238
        },
        "id": "RrFjCPZdO4nK",
        "outputId": "772aafd2-ccac-44b5-eb36-2f980b9630a2"
      },
      "execution_count": 4,
      "outputs": [
        {
          "output_type": "execute_result",
          "data": {
            "text/plain": [
              "            Production\n",
              "Date                  \n",
              "1962-01-01         589\n",
              "1962-02-01         561\n",
              "1962-03-01         640\n",
              "1962-04-01         656\n",
              "1962-05-01         727"
            ],
            "text/html": [
              "\n",
              "  <div id=\"df-c3728334-1742-4aaf-9768-02b19c00c54d\" class=\"colab-df-container\">\n",
              "    <div>\n",
              "<style scoped>\n",
              "    .dataframe tbody tr th:only-of-type {\n",
              "        vertical-align: middle;\n",
              "    }\n",
              "\n",
              "    .dataframe tbody tr th {\n",
              "        vertical-align: top;\n",
              "    }\n",
              "\n",
              "    .dataframe thead th {\n",
              "        text-align: right;\n",
              "    }\n",
              "</style>\n",
              "<table border=\"1\" class=\"dataframe\">\n",
              "  <thead>\n",
              "    <tr style=\"text-align: right;\">\n",
              "      <th></th>\n",
              "      <th>Production</th>\n",
              "    </tr>\n",
              "    <tr>\n",
              "      <th>Date</th>\n",
              "      <th></th>\n",
              "    </tr>\n",
              "  </thead>\n",
              "  <tbody>\n",
              "    <tr>\n",
              "      <th>1962-01-01</th>\n",
              "      <td>589</td>\n",
              "    </tr>\n",
              "    <tr>\n",
              "      <th>1962-02-01</th>\n",
              "      <td>561</td>\n",
              "    </tr>\n",
              "    <tr>\n",
              "      <th>1962-03-01</th>\n",
              "      <td>640</td>\n",
              "    </tr>\n",
              "    <tr>\n",
              "      <th>1962-04-01</th>\n",
              "      <td>656</td>\n",
              "    </tr>\n",
              "    <tr>\n",
              "      <th>1962-05-01</th>\n",
              "      <td>727</td>\n",
              "    </tr>\n",
              "  </tbody>\n",
              "</table>\n",
              "</div>\n",
              "    <div class=\"colab-df-buttons\">\n",
              "\n",
              "  <div class=\"colab-df-container\">\n",
              "    <button class=\"colab-df-convert\" onclick=\"convertToInteractive('df-c3728334-1742-4aaf-9768-02b19c00c54d')\"\n",
              "            title=\"Convert this dataframe to an interactive table.\"\n",
              "            style=\"display:none;\">\n",
              "\n",
              "  <svg xmlns=\"http://www.w3.org/2000/svg\" height=\"24px\" viewBox=\"0 -960 960 960\">\n",
              "    <path d=\"M120-120v-720h720v720H120Zm60-500h600v-160H180v160Zm220 220h160v-160H400v160Zm0 220h160v-160H400v160ZM180-400h160v-160H180v160Zm440 0h160v-160H620v160ZM180-180h160v-160H180v160Zm440 0h160v-160H620v160Z\"/>\n",
              "  </svg>\n",
              "    </button>\n",
              "\n",
              "  <style>\n",
              "    .colab-df-container {\n",
              "      display:flex;\n",
              "      gap: 12px;\n",
              "    }\n",
              "\n",
              "    .colab-df-convert {\n",
              "      background-color: #E8F0FE;\n",
              "      border: none;\n",
              "      border-radius: 50%;\n",
              "      cursor: pointer;\n",
              "      display: none;\n",
              "      fill: #1967D2;\n",
              "      height: 32px;\n",
              "      padding: 0 0 0 0;\n",
              "      width: 32px;\n",
              "    }\n",
              "\n",
              "    .colab-df-convert:hover {\n",
              "      background-color: #E2EBFA;\n",
              "      box-shadow: 0px 1px 2px rgba(60, 64, 67, 0.3), 0px 1px 3px 1px rgba(60, 64, 67, 0.15);\n",
              "      fill: #174EA6;\n",
              "    }\n",
              "\n",
              "    .colab-df-buttons div {\n",
              "      margin-bottom: 4px;\n",
              "    }\n",
              "\n",
              "    [theme=dark] .colab-df-convert {\n",
              "      background-color: #3B4455;\n",
              "      fill: #D2E3FC;\n",
              "    }\n",
              "\n",
              "    [theme=dark] .colab-df-convert:hover {\n",
              "      background-color: #434B5C;\n",
              "      box-shadow: 0px 1px 3px 1px rgba(0, 0, 0, 0.15);\n",
              "      filter: drop-shadow(0px 1px 2px rgba(0, 0, 0, 0.3));\n",
              "      fill: #FFFFFF;\n",
              "    }\n",
              "  </style>\n",
              "\n",
              "    <script>\n",
              "      const buttonEl =\n",
              "        document.querySelector('#df-c3728334-1742-4aaf-9768-02b19c00c54d button.colab-df-convert');\n",
              "      buttonEl.style.display =\n",
              "        google.colab.kernel.accessAllowed ? 'block' : 'none';\n",
              "\n",
              "      async function convertToInteractive(key) {\n",
              "        const element = document.querySelector('#df-c3728334-1742-4aaf-9768-02b19c00c54d');\n",
              "        const dataTable =\n",
              "          await google.colab.kernel.invokeFunction('convertToInteractive',\n",
              "                                                    [key], {});\n",
              "        if (!dataTable) return;\n",
              "\n",
              "        const docLinkHtml = 'Like what you see? Visit the ' +\n",
              "          '<a target=\"_blank\" href=https://colab.research.google.com/notebooks/data_table.ipynb>data table notebook</a>'\n",
              "          + ' to learn more about interactive tables.';\n",
              "        element.innerHTML = '';\n",
              "        dataTable['output_type'] = 'display_data';\n",
              "        await google.colab.output.renderOutput(dataTable, element);\n",
              "        const docLink = document.createElement('div');\n",
              "        docLink.innerHTML = docLinkHtml;\n",
              "        element.appendChild(docLink);\n",
              "      }\n",
              "    </script>\n",
              "  </div>\n",
              "\n",
              "\n",
              "<div id=\"df-7823876c-da12-40ac-8f73-3482ac8e519b\">\n",
              "  <button class=\"colab-df-quickchart\" onclick=\"quickchart('df-7823876c-da12-40ac-8f73-3482ac8e519b')\"\n",
              "            title=\"Suggest charts\"\n",
              "            style=\"display:none;\">\n",
              "\n",
              "<svg xmlns=\"http://www.w3.org/2000/svg\" height=\"24px\"viewBox=\"0 0 24 24\"\n",
              "     width=\"24px\">\n",
              "    <g>\n",
              "        <path d=\"M19 3H5c-1.1 0-2 .9-2 2v14c0 1.1.9 2 2 2h14c1.1 0 2-.9 2-2V5c0-1.1-.9-2-2-2zM9 17H7v-7h2v7zm4 0h-2V7h2v10zm4 0h-2v-4h2v4z\"/>\n",
              "    </g>\n",
              "</svg>\n",
              "  </button>\n",
              "\n",
              "<style>\n",
              "  .colab-df-quickchart {\n",
              "      --bg-color: #E8F0FE;\n",
              "      --fill-color: #1967D2;\n",
              "      --hover-bg-color: #E2EBFA;\n",
              "      --hover-fill-color: #174EA6;\n",
              "      --disabled-fill-color: #AAA;\n",
              "      --disabled-bg-color: #DDD;\n",
              "  }\n",
              "\n",
              "  [theme=dark] .colab-df-quickchart {\n",
              "      --bg-color: #3B4455;\n",
              "      --fill-color: #D2E3FC;\n",
              "      --hover-bg-color: #434B5C;\n",
              "      --hover-fill-color: #FFFFFF;\n",
              "      --disabled-bg-color: #3B4455;\n",
              "      --disabled-fill-color: #666;\n",
              "  }\n",
              "\n",
              "  .colab-df-quickchart {\n",
              "    background-color: var(--bg-color);\n",
              "    border: none;\n",
              "    border-radius: 50%;\n",
              "    cursor: pointer;\n",
              "    display: none;\n",
              "    fill: var(--fill-color);\n",
              "    height: 32px;\n",
              "    padding: 0;\n",
              "    width: 32px;\n",
              "  }\n",
              "\n",
              "  .colab-df-quickchart:hover {\n",
              "    background-color: var(--hover-bg-color);\n",
              "    box-shadow: 0 1px 2px rgba(60, 64, 67, 0.3), 0 1px 3px 1px rgba(60, 64, 67, 0.15);\n",
              "    fill: var(--button-hover-fill-color);\n",
              "  }\n",
              "\n",
              "  .colab-df-quickchart-complete:disabled,\n",
              "  .colab-df-quickchart-complete:disabled:hover {\n",
              "    background-color: var(--disabled-bg-color);\n",
              "    fill: var(--disabled-fill-color);\n",
              "    box-shadow: none;\n",
              "  }\n",
              "\n",
              "  .colab-df-spinner {\n",
              "    border: 2px solid var(--fill-color);\n",
              "    border-color: transparent;\n",
              "    border-bottom-color: var(--fill-color);\n",
              "    animation:\n",
              "      spin 1s steps(1) infinite;\n",
              "  }\n",
              "\n",
              "  @keyframes spin {\n",
              "    0% {\n",
              "      border-color: transparent;\n",
              "      border-bottom-color: var(--fill-color);\n",
              "      border-left-color: var(--fill-color);\n",
              "    }\n",
              "    20% {\n",
              "      border-color: transparent;\n",
              "      border-left-color: var(--fill-color);\n",
              "      border-top-color: var(--fill-color);\n",
              "    }\n",
              "    30% {\n",
              "      border-color: transparent;\n",
              "      border-left-color: var(--fill-color);\n",
              "      border-top-color: var(--fill-color);\n",
              "      border-right-color: var(--fill-color);\n",
              "    }\n",
              "    40% {\n",
              "      border-color: transparent;\n",
              "      border-right-color: var(--fill-color);\n",
              "      border-top-color: var(--fill-color);\n",
              "    }\n",
              "    60% {\n",
              "      border-color: transparent;\n",
              "      border-right-color: var(--fill-color);\n",
              "    }\n",
              "    80% {\n",
              "      border-color: transparent;\n",
              "      border-right-color: var(--fill-color);\n",
              "      border-bottom-color: var(--fill-color);\n",
              "    }\n",
              "    90% {\n",
              "      border-color: transparent;\n",
              "      border-bottom-color: var(--fill-color);\n",
              "    }\n",
              "  }\n",
              "</style>\n",
              "\n",
              "  <script>\n",
              "    async function quickchart(key) {\n",
              "      const quickchartButtonEl =\n",
              "        document.querySelector('#' + key + ' button');\n",
              "      quickchartButtonEl.disabled = true;  // To prevent multiple clicks.\n",
              "      quickchartButtonEl.classList.add('colab-df-spinner');\n",
              "      try {\n",
              "        const charts = await google.colab.kernel.invokeFunction(\n",
              "            'suggestCharts', [key], {});\n",
              "      } catch (error) {\n",
              "        console.error('Error during call to suggestCharts:', error);\n",
              "      }\n",
              "      quickchartButtonEl.classList.remove('colab-df-spinner');\n",
              "      quickchartButtonEl.classList.add('colab-df-quickchart-complete');\n",
              "    }\n",
              "    (() => {\n",
              "      let quickchartButtonEl =\n",
              "        document.querySelector('#df-7823876c-da12-40ac-8f73-3482ac8e519b button');\n",
              "      quickchartButtonEl.style.display =\n",
              "        google.colab.kernel.accessAllowed ? 'block' : 'none';\n",
              "    })();\n",
              "  </script>\n",
              "</div>\n",
              "\n",
              "    </div>\n",
              "  </div>\n"
            ],
            "application/vnd.google.colaboratory.intrinsic+json": {
              "type": "dataframe",
              "variable_name": "df",
              "summary": "{\n  \"name\": \"df\",\n  \"rows\": 168,\n  \"fields\": [\n    {\n      \"column\": \"Date\",\n      \"properties\": {\n        \"dtype\": \"date\",\n        \"min\": \"1962-01-01 00:00:00\",\n        \"max\": \"1975-12-01 00:00:00\",\n        \"num_unique_values\": 168,\n        \"samples\": [\n          \"1973-06-01 00:00:00\",\n          \"1964-07-01 00:00:00\",\n          \"1971-12-01 00:00:00\"\n        ],\n        \"semantic_type\": \"\",\n        \"description\": \"\"\n      }\n    },\n    {\n      \"column\": \"Production\",\n      \"properties\": {\n        \"dtype\": \"number\",\n        \"std\": 102,\n        \"min\": 553,\n        \"max\": 969,\n        \"num_unique_values\": 142,\n        \"samples\": [\n          815,\n          583,\n          764\n        ],\n        \"semantic_type\": \"\",\n        \"description\": \"\"\n      }\n    }\n  ]\n}"
            }
          },
          "metadata": {},
          "execution_count": 4
        }
      ]
    },
    {
      "cell_type": "code",
      "source": [
        "df.plot(figsize=(12,6))"
      ],
      "metadata": {
        "colab": {
          "base_uri": "https://localhost:8080/",
          "height": 535
        },
        "id": "T1a9G5d0O77w",
        "outputId": "2ce88408-118b-4f74-f3dc-4b77abfc9022"
      },
      "execution_count": 5,
      "outputs": [
        {
          "output_type": "execute_result",
          "data": {
            "text/plain": [
              "<Axes: xlabel='Date'>"
            ]
          },
          "metadata": {},
          "execution_count": 5
        },
        {
          "output_type": "display_data",
          "data": {
            "text/plain": [
              "<Figure size 1200x600 with 1 Axes>"
            ],
            "image/png": "[encoded data removed]"
          },
          "metadata": {}
        }
      ]
    },
    {
      "cell_type": "code",
      "source": [
        "len(df)"
      ],
      "metadata": {
        "colab": {
          "base_uri": "https://localhost:8080/"
        },
        "id": "PknFrsJPP-jc",
        "outputId": "726f40f2-c045-4a29-c2b1-673d41a41698"
      },
      "execution_count": 6,
      "outputs": [
        {
          "output_type": "execute_result",
          "data": {
            "text/plain": [
              "168"
            ]
          },
          "metadata": {},
          "execution_count": 6
        }
      ]
    },
    {
      "cell_type": "markdown",
      "source": [
        "# Train & test split"
      ],
      "metadata": {
        "id": "N4Qc8iofEg8i"
      }
    },
    {
      "cell_type": "code",
      "source": [
        "train = df.iloc[:156]\n",
        "test = df.iloc[156:]"
      ],
      "metadata": {
        "id": "xe-hiywoQKBU"
      },
      "execution_count": 43,
      "outputs": []
    },
    {
      "cell_type": "markdown",
      "source": [
        "# Some necessary preprocessing"
      ],
      "metadata": {
        "id": "7tHTJSSGEnCQ"
      }
    },
    {
      "cell_type": "code",
      "source": [
        "scaler = MinMaxScaler()"
      ],
      "metadata": {
        "id": "RRXvi7XNQNtZ"
      },
      "execution_count": 9,
      "outputs": []
    },
    {
      "cell_type": "code",
      "source": [
        "scaler.fit(df)\n",
        "scaled_train = scaler.transform(train)\n",
        "scaled_test = scaler.transform(test)"
      ],
      "metadata": {
        "id": "3UcK-aJkQVRx"
      },
      "execution_count": 11,
      "outputs": []
    },
    {
      "cell_type": "code",
      "source": [
        "scaled_train[:10]"
      ],
      "metadata": {
        "colab": {
          "base_uri": "https://localhost:8080/"
        },
        "id": "3tG3eVmyQga4",
        "outputId": "c24c9645-3d89-4539-81b2-571bbe4da0ff"
      },
      "execution_count": 12,
      "outputs": [
        {
          "output_type": "execute_result",
          "data": {
            "text/plain": [
              "array([[0.08653846],\n",
              "       [0.01923077],\n",
              "       [0.20913462],\n",
              "       [0.24759615],\n",
              "       [0.41826923],\n",
              "       [0.34615385],\n",
              "       [0.20913462],\n",
              "       [0.11057692],\n",
              "       [0.03605769],\n",
              "       [0.05769231]])"
            ]
          },
          "metadata": {},
          "execution_count": 12
        }
      ]
    },
    {
      "cell_type": "markdown",
      "source": [
        "# Turning the data into a time series"
      ],
      "metadata": {
        "id": "cgx7KXK8EuWB"
      }
    },
    {
      "cell_type": "code",
      "source": [
        "# define an input length for 12 months\n",
        "n_input = 12\n",
        "generator = TimeseriesGenerator(scaled_train, scaled_train, length=n_input, batch_size=1)"
      ],
      "metadata": {
        "id": "N9YjWkC1RdFh"
      },
      "execution_count": 14,
      "outputs": []
    },
    {
      "cell_type": "code",
      "source": [
        "X,y = generator[0]\n",
        "print(f'Given the Array: \\n{X.flatten()}')\n",
        "print(f'Predict this y: \\n {y}')"
      ],
      "metadata": {
        "colab": {
          "base_uri": "https://localhost:8080/"
        },
        "id": "ZBVciWufQ8UA",
        "outputId": "93438c18-e996-4ecd-c0d8-eacfc5253889"
      },
      "execution_count": 15,
      "outputs": [
        {
          "output_type": "stream",
          "name": "stdout",
          "text": [
            "Given the Array: \n",
            "[0.08653846 0.01923077 0.20913462 0.24759615 0.41826923 0.34615385\n",
            " 0.20913462 0.11057692 0.03605769 0.05769231 0.         0.06971154]\n",
            "Predict this y: \n",
            " [[0.11298077]]\n"
          ]
        }
      ]
    },
    {
      "cell_type": "markdown",
      "source": [
        "# Defining a deep learning LSTM model"
      ],
      "metadata": {
        "id": "QwtRgRlHE3Mm"
      }
    },
    {
      "cell_type": "code",
      "source": [
        "# define model\n",
        "n_features = 1\n",
        "\n",
        "model = Sequential()\n",
        "\n",
        "model.add(LSTM(200, activation='relu', input_shape=(n_input, n_features), return_sequences=True))\n",
        "model.add(LSTM(200, activation='relu', return_sequences=True))\n",
        "model.add(LSTM(200, activation='relu'))\n",
        "model.add(Dense(1))\n",
        "model.compile(optimizer='adam', loss='mse')"
      ],
      "metadata": {
        "id": "aL_cRNFuRr9Z"
      },
      "execution_count": 55,
      "outputs": []
    },
    {
      "cell_type": "code",
      "source": [
        "model.summary()"
      ],
      "metadata": {
        "colab": {
          "base_uri": "https://localhost:8080/"
        },
        "id": "cn814ykqRvtD",
        "outputId": "9d865416-a3b5-4027-c399-31221c1f66d9"
      },
      "execution_count": 56,
      "outputs": [
        {
          "output_type": "stream",
          "name": "stdout",
          "text": [
            "Model: \"sequential_5\"\n",
            "_________________________________________________________________\n",
            " Layer (type)                Output Shape              Param #   \n",
            "=================================================================\n",
            " lstm_10 (LSTM)              (None, 12, 200)           161600    \n",
            "                                                                 \n",
            " lstm_11 (LSTM)              (None, 12, 200)           320800    \n",
            "                                                                 \n",
            " lstm_12 (LSTM)              (None, 200)               320800    \n",
            "                                                                 \n",
            " dense_4 (Dense)             (None, 1)                 201       \n",
            "                                                                 \n",
            "=================================================================\n",
            "Total params: 803401 (3.06 MB)\n",
            "Trainable params: 803401 (3.06 MB)\n",
            "Non-trainable params: 0 (0.00 Byte)\n",
            "_________________________________________________________________\n"
          ]
        }
      ]
    },
    {
      "cell_type": "markdown",
      "source": [
        "# Model training"
      ],
      "metadata": {
        "id": "Q1s3JrLzFAOy"
      }
    },
    {
      "cell_type": "code",
      "source": [
        "# training the model\n",
        "model.fit(generator,epochs=150)"
      ],
      "metadata": {
        "colab": {
          "base_uri": "https://localhost:8080/"
        },
        "id": "XVb-cS9yR0UN",
        "outputId": "7ac23cc0-07e9-4fa4-aeff-25afff8809d5"
      },
      "execution_count": 57,
      "outputs": [
        {
          "output_type": "stream",
          "name": "stdout",
          "text": [
            "Epoch 1/150\n",
            "144/144 [==============================] - 11s 44ms/step - loss: 0.0553\n",
            "Epoch 2/150\n",
            "144/144 [==============================] - 8s 53ms/step - loss: 0.0291\n",
            "Epoch 3/150\n",
            "144/144 [==============================] - 9s 61ms/step - loss: 0.0164\n",
            "Epoch 4/150\n",
            "144/144 [==============================] - 7s 45ms/step - loss: 0.0106\n",
            "Epoch 5/150\n",
            "144/144 [==============================] - 9s 62ms/step - loss: 0.0115\n",
            "Epoch 6/150\n",
            "144/144 [==============================] - 6s 45ms/step - loss: 0.0067\n",
            "Epoch 7/150\n",
            "144/144 [==============================] - 8s 55ms/step - loss: 0.0053\n",
            "Epoch 8/150\n",
            "144/144 [==============================] - 7s 46ms/step - loss: 0.0044\n",
            "Epoch 9/150\n",
            "144/144 [==============================] - 6s 43ms/step - loss: 0.0048\n",
            "Epoch 10/150\n",
            "144/144 [==============================] - 9s 61ms/step - loss: 0.0034\n",
            "Epoch 11/150\n",
            "144/144 [==============================] - 7s 46ms/step - loss: 0.0039\n",
            "Epoch 12/150\n",
            "144/144 [==============================] - 9s 63ms/step - loss: 0.0035\n",
            "Epoch 13/150\n",
            "144/144 [==============================] - 6s 44ms/step - loss: 0.0034\n",
            "Epoch 14/150\n",
            "144/144 [==============================] - 9s 61ms/step - loss: 0.0036\n",
            "Epoch 15/150\n",
            "144/144 [==============================] - 7s 45ms/step - loss: 0.0039\n",
            "Epoch 16/150\n",
            "144/144 [==============================] - 9s 62ms/step - loss: 0.0026\n",
            "Epoch 17/150\n",
            "144/144 [==============================] - 7s 46ms/step - loss: 0.0027\n",
            "Epoch 18/150\n",
            "144/144 [==============================] - 9s 62ms/step - loss: 0.0031\n",
            "Epoch 19/150\n",
            "144/144 [==============================] - 7s 45ms/step - loss: 0.0031\n",
            "Epoch 20/150\n",
            "144/144 [==============================] - 9s 61ms/step - loss: 0.0027\n",
            "Epoch 21/150\n",
            "144/144 [==============================] - 6s 45ms/step - loss: 0.0035\n",
            "Epoch 22/150\n",
            "144/144 [==============================] - 9s 60ms/step - loss: 0.0024\n",
            "Epoch 23/150\n",
            "144/144 [==============================] - 7s 46ms/step - loss: 0.0055\n",
            "Epoch 24/150\n",
            "144/144 [==============================] - 9s 63ms/step - loss: 0.0032\n",
            "Epoch 25/150\n",
            "144/144 [==============================] - 6s 45ms/step - loss: 0.0029\n",
            "Epoch 26/150\n",
            "144/144 [==============================] - 9s 61ms/step - loss: 0.0033\n",
            "Epoch 27/150\n",
            "144/144 [==============================] - 6s 45ms/step - loss: 0.0036\n",
            "Epoch 28/150\n",
            "144/144 [==============================] - 9s 60ms/step - loss: 0.0032\n",
            "Epoch 29/150\n",
            "144/144 [==============================] - 6s 43ms/step - loss: 0.0029\n",
            "Epoch 30/150\n",
            "144/144 [==============================] - 8s 58ms/step - loss: 0.0030\n",
            "Epoch 31/150\n",
            "144/144 [==============================] - 6s 43ms/step - loss: 0.0026\n",
            "Epoch 32/150\n",
            "144/144 [==============================] - 9s 60ms/step - loss: 0.0022\n",
            "Epoch 33/150\n",
            "144/144 [==============================] - 6s 43ms/step - loss: 0.0030\n",
            "Epoch 34/150\n",
            "144/144 [==============================] - 8s 56ms/step - loss: 0.0025\n",
            "Epoch 35/150\n",
            "144/144 [==============================] - 6s 43ms/step - loss: 0.0026\n",
            "Epoch 36/150\n",
            "144/144 [==============================] - 9s 61ms/step - loss: 0.0028\n",
            "Epoch 37/150\n",
            "144/144 [==============================] - 6s 43ms/step - loss: 0.0025\n",
            "Epoch 38/150\n",
            "144/144 [==============================] - 8s 59ms/step - loss: 0.0033\n",
            "Epoch 39/150\n",
            "144/144 [==============================] - 6s 43ms/step - loss: 0.0027\n",
            "Epoch 40/150\n",
            "144/144 [==============================] - 9s 59ms/step - loss: 0.0025\n",
            "Epoch 41/150\n",
            "144/144 [==============================] - 6s 42ms/step - loss: 0.0021\n",
            "Epoch 42/150\n",
            "144/144 [==============================] - 9s 59ms/step - loss: 0.0027\n",
            "Epoch 43/150\n",
            "144/144 [==============================] - 6s 43ms/step - loss: 0.0024\n",
            "Epoch 44/150\n",
            "144/144 [==============================] - 9s 61ms/step - loss: 0.0027\n",
            "Epoch 45/150\n",
            "144/144 [==============================] - 6s 44ms/step - loss: 0.0026\n",
            "Epoch 46/150\n",
            "144/144 [==============================] - 9s 62ms/step - loss: 0.0024\n",
            "Epoch 47/150\n",
            "144/144 [==============================] - 6s 43ms/step - loss: 0.0025\n",
            "Epoch 48/150\n",
            "144/144 [==============================] - 9s 60ms/step - loss: 0.0022\n",
            "Epoch 49/150\n",
            "144/144 [==============================] - 6s 42ms/step - loss: 0.0025\n",
            "Epoch 50/150\n",
            "144/144 [==============================] - 9s 60ms/step - loss: 0.0031\n",
            "Epoch 51/150\n",
            "144/144 [==============================] - 6s 43ms/step - loss: 0.0023\n",
            "Epoch 52/150\n",
            "144/144 [==============================] - 9s 59ms/step - loss: 0.0028\n",
            "Epoch 53/150\n",
            "144/144 [==============================] - 6s 44ms/step - loss: 0.0022\n",
            "Epoch 54/150\n",
            "144/144 [==============================] - 9s 61ms/step - loss: 0.0028\n",
            "Epoch 55/150\n",
            "144/144 [==============================] - 6s 43ms/step - loss: 0.0023\n",
            "Epoch 56/150\n",
            "144/144 [==============================] - 9s 61ms/step - loss: 0.0022\n",
            "Epoch 57/150\n",
            "144/144 [==============================] - 6s 44ms/step - loss: 0.0019\n",
            "Epoch 58/150\n",
            "144/144 [==============================] - 9s 60ms/step - loss: 0.0018\n",
            "Epoch 59/150\n",
            "144/144 [==============================] - 6s 44ms/step - loss: 0.0026\n",
            "Epoch 60/150\n",
            "144/144 [==============================] - 9s 62ms/step - loss: 0.0020\n",
            "Epoch 61/150\n",
            "144/144 [==============================] - 6s 43ms/step - loss: 0.0022\n",
            "Epoch 62/150\n",
            "144/144 [==============================] - 8s 58ms/step - loss: 0.0020\n",
            "Epoch 63/150\n",
            "144/144 [==============================] - 6s 45ms/step - loss: 0.0030\n",
            "Epoch 64/150\n",
            "144/144 [==============================] - 6s 43ms/step - loss: 0.0023\n",
            "Epoch 65/150\n",
            "144/144 [==============================] - 9s 61ms/step - loss: 0.0029\n",
            "Epoch 66/150\n",
            "144/144 [==============================] - 6s 44ms/step - loss: 0.0024\n",
            "Epoch 67/150\n",
            "144/144 [==============================] - 9s 61ms/step - loss: 0.0022\n",
            "Epoch 68/150\n",
            "144/144 [==============================] - 6s 44ms/step - loss: 0.0028\n",
            "Epoch 69/150\n",
            "144/144 [==============================] - 9s 61ms/step - loss: 0.0019\n",
            "Epoch 70/150\n",
            "144/144 [==============================] - 6s 45ms/step - loss: 0.0022\n",
            "Epoch 71/150\n",
            "144/144 [==============================] - 7s 50ms/step - loss: 0.0021\n",
            "Epoch 72/150\n",
            "144/144 [==============================] - 8s 53ms/step - loss: 0.0020\n",
            "Epoch 73/150\n",
            "144/144 [==============================] - 8s 53ms/step - loss: 0.0028\n",
            "Epoch 74/150\n",
            "144/144 [==============================] - 7s 51ms/step - loss: 0.0020\n",
            "Epoch 75/150\n",
            "144/144 [==============================] - 6s 45ms/step - loss: 0.0019\n",
            "Epoch 76/150\n",
            "144/144 [==============================] - 7s 50ms/step - loss: 0.0022\n",
            "Epoch 77/150\n",
            "144/144 [==============================] - 8s 52ms/step - loss: 0.0018\n",
            "Epoch 78/150\n",
            "144/144 [==============================] - 6s 42ms/step - loss: 0.0017\n",
            "Epoch 79/150\n",
            "144/144 [==============================] - 9s 62ms/step - loss: 0.0020\n",
            "Epoch 80/150\n",
            "144/144 [==============================] - 6s 44ms/step - loss: 0.0021\n",
            "Epoch 81/150\n",
            "144/144 [==============================] - 9s 59ms/step - loss: 0.0020\n",
            "Epoch 82/150\n",
            "144/144 [==============================] - 6s 43ms/step - loss: 0.0018\n",
            "Epoch 83/150\n",
            "144/144 [==============================] - 9s 62ms/step - loss: 0.0022\n",
            "Epoch 84/150\n",
            "144/144 [==============================] - 6s 44ms/step - loss: 0.0020\n",
            "Epoch 85/150\n",
            "144/144 [==============================] - 8s 59ms/step - loss: 0.0020\n",
            "Epoch 86/150\n",
            "144/144 [==============================] - 6s 43ms/step - loss: 0.0020\n",
            "Epoch 87/150\n",
            "144/144 [==============================] - 9s 60ms/step - loss: 0.0023\n",
            "Epoch 88/150\n",
            "144/144 [==============================] - 6s 43ms/step - loss: 0.0018\n",
            "Epoch 89/150\n",
            "144/144 [==============================] - 8s 55ms/step - loss: 0.0027\n",
            "Epoch 90/150\n",
            "144/144 [==============================] - 7s 48ms/step - loss: 0.0019\n",
            "Epoch 91/150\n",
            "144/144 [==============================] - 8s 56ms/step - loss: 0.0022\n",
            "Epoch 92/150\n",
            "144/144 [==============================] - 6s 43ms/step - loss: 0.0020\n",
            "Epoch 93/150\n",
            "144/144 [==============================] - 9s 61ms/step - loss: 0.0020\n",
            "Epoch 94/150\n",
            "144/144 [==============================] - 6s 43ms/step - loss: 0.0017\n",
            "Epoch 95/150\n",
            "144/144 [==============================] - 9s 61ms/step - loss: 0.0019\n",
            "Epoch 96/150\n",
            "144/144 [==============================] - 6s 45ms/step - loss: 0.0017\n",
            "Epoch 97/150\n",
            "144/144 [==============================] - 9s 61ms/step - loss: 0.0020\n",
            "Epoch 98/150\n",
            "144/144 [==============================] - 6s 45ms/step - loss: 0.0018\n",
            "Epoch 99/150\n",
            "144/144 [==============================] - 7s 46ms/step - loss: 0.0017\n",
            "Epoch 100/150\n",
            "144/144 [==============================] - 9s 62ms/step - loss: 0.0017\n",
            "Epoch 101/150\n",
            "144/144 [==============================] - 7s 45ms/step - loss: 0.0023\n",
            "Epoch 102/150\n",
            "144/144 [==============================] - 9s 63ms/step - loss: 0.0020\n",
            "Epoch 103/150\n",
            "144/144 [==============================] - 7s 46ms/step - loss: 0.0019\n",
            "Epoch 104/150\n",
            "144/144 [==============================] - 9s 61ms/step - loss: 0.0019\n",
            "Epoch 105/150\n",
            "144/144 [==============================] - 7s 46ms/step - loss: 0.0021\n",
            "Epoch 106/150\n",
            "144/144 [==============================] - 9s 61ms/step - loss: 0.0016\n",
            "Epoch 107/150\n",
            "144/144 [==============================] - 6s 45ms/step - loss: 0.0017\n",
            "Epoch 108/150\n",
            "144/144 [==============================] - 9s 62ms/step - loss: 0.0020\n",
            "Epoch 109/150\n",
            "144/144 [==============================] - 7s 45ms/step - loss: 0.0019\n",
            "Epoch 110/150\n",
            "144/144 [==============================] - 7s 45ms/step - loss: 0.0018\n",
            "Epoch 111/150\n",
            "144/144 [==============================] - 9s 61ms/step - loss: 0.0016\n",
            "Epoch 112/150\n",
            "144/144 [==============================] - 6s 44ms/step - loss: 0.0018\n",
            "Epoch 113/150\n",
            "144/144 [==============================] - 9s 60ms/step - loss: 0.0018\n",
            "Epoch 114/150\n",
            "144/144 [==============================] - 7s 46ms/step - loss: 0.0017\n",
            "Epoch 115/150\n",
            "144/144 [==============================] - 9s 61ms/step - loss: 0.0019\n",
            "Epoch 116/150\n",
            "144/144 [==============================] - 6s 44ms/step - loss: 0.0017\n",
            "Epoch 117/150\n",
            "144/144 [==============================] - 9s 61ms/step - loss: 0.0019\n",
            "Epoch 118/150\n",
            "144/144 [==============================] - 6s 45ms/step - loss: 0.0020\n",
            "Epoch 119/150\n",
            "144/144 [==============================] - 9s 62ms/step - loss: 0.0018\n",
            "Epoch 120/150\n",
            "144/144 [==============================] - 6s 43ms/step - loss: 0.0017\n",
            "Epoch 121/150\n",
            "144/144 [==============================] - 9s 63ms/step - loss: 0.0017\n",
            "Epoch 122/150\n",
            "144/144 [==============================] - 6s 45ms/step - loss: 0.0016\n",
            "Epoch 123/150\n",
            "144/144 [==============================] - 9s 60ms/step - loss: 0.0015\n",
            "Epoch 124/150\n",
            "144/144 [==============================] - 6s 43ms/step - loss: 0.0018\n",
            "Epoch 125/150\n",
            "144/144 [==============================] - 9s 63ms/step - loss: 0.0017\n",
            "Epoch 126/150\n",
            "144/144 [==============================] - 6s 44ms/step - loss: 0.0016\n",
            "Epoch 127/150\n",
            "144/144 [==============================] - 9s 60ms/step - loss: 0.0018\n",
            "Epoch 128/150\n",
            "144/144 [==============================] - 6s 44ms/step - loss: 0.0017\n",
            "Epoch 129/150\n",
            "144/144 [==============================] - 9s 62ms/step - loss: 0.0019\n",
            "Epoch 130/150\n",
            "144/144 [==============================] - 6s 43ms/step - loss: 0.0016\n",
            "Epoch 131/150\n",
            "144/144 [==============================] - 9s 60ms/step - loss: 0.0017\n",
            "Epoch 132/150\n",
            "144/144 [==============================] - 6s 44ms/step - loss: 0.0017\n",
            "Epoch 133/150\n",
            "144/144 [==============================] - 9s 62ms/step - loss: 0.0016\n",
            "Epoch 134/150\n",
            "144/144 [==============================] - 6s 44ms/step - loss: 0.0015\n",
            "Epoch 135/150\n",
            "144/144 [==============================] - 7s 50ms/step - loss: 0.0016\n",
            "Epoch 136/150\n",
            "144/144 [==============================] - 9s 60ms/step - loss: 0.0017\n",
            "Epoch 137/150\n",
            "144/144 [==============================] - 6s 44ms/step - loss: 0.0014\n",
            "Epoch 138/150\n",
            "144/144 [==============================] - 9s 60ms/step - loss: 0.0016\n",
            "Epoch 139/150\n",
            "144/144 [==============================] - 6s 44ms/step - loss: 0.0017\n",
            "Epoch 140/150\n",
            "144/144 [==============================] - 7s 46ms/step - loss: 0.0018\n",
            "Epoch 141/150\n",
            "144/144 [==============================] - 8s 56ms/step - loss: 0.0017\n",
            "Epoch 142/150\n",
            "144/144 [==============================] - 6s 44ms/step - loss: 0.0013\n",
            "Epoch 143/150\n",
            "144/144 [==============================] - 9s 62ms/step - loss: 0.0015\n",
            "Epoch 144/150\n",
            "144/144 [==============================] - 6s 44ms/step - loss: 0.0016\n",
            "Epoch 145/150\n",
            "144/144 [==============================] - 9s 61ms/step - loss: 0.0015\n",
            "Epoch 146/150\n",
            "144/144 [==============================] - 6s 44ms/step - loss: 0.0014\n",
            "Epoch 147/150\n",
            "144/144 [==============================] - 9s 60ms/step - loss: 0.0012\n",
            "Epoch 148/150\n",
            "144/144 [==============================] - 6s 43ms/step - loss: 0.0013\n",
            "Epoch 149/150\n",
            "144/144 [==============================] - 9s 60ms/step - loss: 0.0015\n",
            "Epoch 150/150\n",
            "144/144 [==============================] - 6s 44ms/step - loss: 0.0017\n"
          ]
        },
        {
          "output_type": "execute_result",
          "data": {
            "text/plain": [
              "<keras.src.callbacks.History at 0x79bb80d7fa30>"
            ]
          },
          "metadata": {},
          "execution_count": 57
        }
      ]
    },
    {
      "cell_type": "markdown",
      "source": [
        "# Testing the model, visuaizing the loss"
      ],
      "metadata": {
        "id": "JiRJ5ugWFLrQ"
      }
    },
    {
      "cell_type": "code",
      "source": [
        "loss_per_epoch = model.history.history['loss']\n",
        "plt.plot(range(len(loss_per_epoch)),loss_per_epoch)"
      ],
      "metadata": {
        "colab": {
          "base_uri": "https://localhost:8080/",
          "height": 447
        },
        "id": "kttBRRwLR5Xl",
        "outputId": "3bd14c9d-a442-49f2-d5b4-a97b375e4852"
      },
      "execution_count": 58,
      "outputs": [
        {
          "output_type": "execute_result",
          "data": {
            "text/plain": [
              "[<matplotlib.lines.Line2D at 0x79bb7b8f0b20>]"
            ]
          },
          "metadata": {},
          "execution_count": 58
        },
        {
          "output_type": "display_data",
          "data": {
            "text/plain": [
              "<Figure size 640x480 with 1 Axes>"
            ],
            "image/png": "[encoded data removed]"
          },
          "metadata": {}
        }
      ]
    },
    {
      "cell_type": "code",
      "source": [
        "test_predictions = []\n",
        "\n",
        "first_eval_batch = scaled_train[-n_input:]\n",
        "current_batch = first_eval_batch.reshape((1, n_input, n_features))\n",
        "\n",
        "for i in range(len(test)):\n",
        "\n",
        "    # get the prediction value for the first batch\n",
        "    current_pred = model.predict(current_batch)[0]\n",
        "\n",
        "    # append the prediction into the array\n",
        "    test_predictions.append(current_pred)\n",
        "\n",
        "    # use the prediction to update the batch and remove the first value\n",
        "    current_batch = np.append(current_batch[:,1:,:],[[current_pred]],axis=1)"
      ],
      "metadata": {
        "colab": {
          "base_uri": "https://localhost:8080/"
        },
        "id": "ACupHfU6UevA",
        "outputId": "233d7959-e312-4d54-869a-f4acd9606a16"
      },
      "execution_count": 59,
      "outputs": [
        {
          "output_type": "stream",
          "name": "stdout",
          "text": [
            "1/1 [==============================] - 0s 445ms/step\n",
            "1/1 [==============================] - 0s 27ms/step\n",
            "1/1 [==============================] - 0s 27ms/step\n",
            "1/1 [==============================] - 0s 29ms/step\n",
            "1/1 [==============================] - 0s 35ms/step\n",
            "1/1 [==============================] - 0s 28ms/step\n",
            "1/1 [==============================] - 0s 28ms/step\n",
            "1/1 [==============================] - 0s 27ms/step\n",
            "1/1 [==============================] - 0s 29ms/step\n",
            "1/1 [==============================] - 0s 38ms/step\n",
            "1/1 [==============================] - 0s 33ms/step\n",
            "1/1 [==============================] - 0s 28ms/step\n"
          ]
        }
      ]
    },
    {
      "cell_type": "code",
      "source": [
        "true_predictions = scaler.inverse_transform(test_predictions)\n",
        "true_predictions"
      ],
      "metadata": {
        "id": "o9pl_V4MU2UE",
        "colab": {
          "base_uri": "https://localhost:8080/"
        },
        "outputId": "7369c435-33d0-44f0-85af-3f2f0eb59806"
      },
      "execution_count": 60,
      "outputs": [
        {
          "output_type": "execute_result",
          "data": {
            "text/plain": [
              "array([[819.52211761],\n",
              "       [795.64972305],\n",
              "       [886.68691635],\n",
              "       [906.04969788],\n",
              "       [949.11333847],\n",
              "       [938.26549149],\n",
              "       [911.39397812],\n",
              "       [869.26993942],\n",
              "       [821.71999359],\n",
              "       [810.19488144],\n",
              "       [788.17074585],\n",
              "       [806.01504898]])"
            ]
          },
          "metadata": {},
          "execution_count": 60
        }
      ]
    },
    {
      "cell_type": "code",
      "source": [
        "test['Predictions'] = true_predictions"
      ],
      "metadata": {
        "colab": {
          "base_uri": "https://localhost:8080/"
        },
        "id": "a1QNhKOoVGzj",
        "outputId": "45f702be-ff72-4763-dd25-4a5da388d585"
      },
      "execution_count": 61,
      "outputs": [
        {
          "output_type": "stream",
          "name": "stderr",
          "text": [
            "<ipython-input-61-920b79c3c314>:1: SettingWithCopyWarning: \n",
            "A value is trying to be set on a copy of a slice from a DataFrame.\n",
            "Try using .loc[row_indexer,col_indexer] = value instead\n",
            "\n",
            "See the caveats in the documentation: https://pandas.pydata.org/pandas-docs/stable/user_guide/indexing.html#returning-a-view-versus-a-copy\n",
            "  test['Predictions'] = true_predictions\n"
          ]
        }
      ]
    },
    {
      "cell_type": "code",
      "source": [
        "test.head()"
      ],
      "metadata": {
        "colab": {
          "base_uri": "https://localhost:8080/",
          "height": 238
        },
        "id": "zOD4UKO2Ut4G",
        "outputId": "7fb1c2f4-4935-49d3-b75e-b1414134f567"
      },
      "execution_count": 62,
      "outputs": [
        {
          "output_type": "execute_result",
          "data": {
            "text/plain": [
              "            Production  Predictions\n",
              "Date                               \n",
              "1975-01-01         834   819.522118\n",
              "1975-02-01         782   795.649723\n",
              "1975-03-01         892   886.686916\n",
              "1975-04-01         903   906.049698\n",
              "1975-05-01         966   949.113338"
            ],
            "text/html": [
              "\n",
              "  <div id=\"df-95c72fa0-091c-4b21-8c7c-7addc60d3ee3\" class=\"colab-df-container\">\n",
              "    <div>\n",
              "<style scoped>\n",
              "    .dataframe tbody tr th:only-of-type {\n",
              "        vertical-align: middle;\n",
              "    }\n",
              "\n",
              "    .dataframe tbody tr th {\n",
              "        vertical-align: top;\n",
              "    }\n",
              "\n",
              "    .dataframe thead th {\n",
              "        text-align: right;\n",
              "    }\n",
              "</style>\n",
              "<table border=\"1\" class=\"dataframe\">\n",
              "  <thead>\n",
              "    <tr style=\"text-align: right;\">\n",
              "      <th></th>\n",
              "      <th>Production</th>\n",
              "      <th>Predictions</th>\n",
              "    </tr>\n",
              "    <tr>\n",
              "      <th>Date</th>\n",
              "      <th></th>\n",
              "      <th></th>\n",
              "    </tr>\n",
              "  </thead>\n",
              "  <tbody>\n",
              "    <tr>\n",
              "      <th>1975-01-01</th>\n",
              "      <td>834</td>\n",
              "      <td>819.522118</td>\n",
              "    </tr>\n",
              "    <tr>\n",
              "      <th>1975-02-01</th>\n",
              "      <td>782</td>\n",
              "      <td>795.649723</td>\n",
              "    </tr>\n",
              "    <tr>\n",
              "      <th>1975-03-01</th>\n",
              "      <td>892</td>\n",
              "      <td>886.686916</td>\n",
              "    </tr>\n",
              "    <tr>\n",
              "      <th>1975-04-01</th>\n",
              "      <td>903</td>\n",
              "      <td>906.049698</td>\n",
              "    </tr>\n",
              "    <tr>\n",
              "      <th>1975-05-01</th>\n",
              "      <td>966</td>\n",
              "      <td>949.113338</td>\n",
              "    </tr>\n",
              "  </tbody>\n",
              "</table>\n",
              "</div>\n",
              "    <div class=\"colab-df-buttons\">\n",
              "\n",
              "  <div class=\"colab-df-container\">\n",
              "    <button class=\"colab-df-convert\" onclick=\"convertToInteractive('df-95c72fa0-091c-4b21-8c7c-7addc60d3ee3')\"\n",
              "            title=\"Convert this dataframe to an interactive table.\"\n",
              "            style=\"display:none;\">\n",
              "\n",
              "  <svg xmlns=\"http://www.w3.org/2000/svg\" height=\"24px\" viewBox=\"0 -960 960 960\">\n",
              "    <path d=\"M120-120v-720h720v720H120Zm60-500h600v-160H180v160Zm220 220h160v-160H400v160Zm0 220h160v-160H400v160ZM180-400h160v-160H180v160Zm440 0h160v-160H620v160ZM180-180h160v-160H180v160Zm440 0h160v-160H620v160Z\"/>\n",
              "  </svg>\n",
              "    </button>\n",
              "\n",
              "  <style>\n",
              "    .colab-df-container {\n",
              "      display:flex;\n",
              "      gap: 12px;\n",
              "    }\n",
              "\n",
              "    .colab-df-convert {\n",
              "      background-color: #E8F0FE;\n",
              "      border: none;\n",
              "      border-radius: 50%;\n",
              "      cursor: pointer;\n",
              "      display: none;\n",
              "      fill: #1967D2;\n",
              "      height: 32px;\n",
              "      padding: 0 0 0 0;\n",
              "      width: 32px;\n",
              "    }\n",
              "\n",
              "    .colab-df-convert:hover {\n",
              "      background-color: #E2EBFA;\n",
              "      box-shadow: 0px 1px 2px rgba(60, 64, 67, 0.3), 0px 1px 3px 1px rgba(60, 64, 67, 0.15);\n",
              "      fill: #174EA6;\n",
              "    }\n",
              "\n",
              "    .colab-df-buttons div {\n",
              "      margin-bottom: 4px;\n",
              "    }\n",
              "\n",
              "    [theme=dark] .colab-df-convert {\n",
              "      background-color: #3B4455;\n",
              "      fill: #D2E3FC;\n",
              "    }\n",
              "\n",
              "    [theme=dark] .colab-df-convert:hover {\n",
              "      background-color: #434B5C;\n",
              "      box-shadow: 0px 1px 3px 1px rgba(0, 0, 0, 0.15);\n",
              "      filter: drop-shadow(0px 1px 2px rgba(0, 0, 0, 0.3));\n",
              "      fill: #FFFFFF;\n",
              "    }\n",
              "  </style>\n",
              "\n",
              "    <script>\n",
              "      const buttonEl =\n",
              "        document.querySelector('#df-95c72fa0-091c-4b21-8c7c-7addc60d3ee3 button.colab-df-convert');\n",
              "      buttonEl.style.display =\n",
              "        google.colab.kernel.accessAllowed ? 'block' : 'none';\n",
              "\n",
              "      async function convertToInteractive(key) {\n",
              "        const element = document.querySelector('#df-95c72fa0-091c-4b21-8c7c-7addc60d3ee3');\n",
              "        const dataTable =\n",
              "          await google.colab.kernel.invokeFunction('convertToInteractive',\n",
              "                                                    [key], {});\n",
              "        if (!dataTable) return;\n",
              "\n",
              "        const docLinkHtml = 'Like what you see? Visit the ' +\n",
              "          '<a target=\"_blank\" href=https://colab.research.google.com/notebooks/data_table.ipynb>data table notebook</a>'\n",
              "          + ' to learn more about interactive tables.';\n",
              "        element.innerHTML = '';\n",
              "        dataTable['output_type'] = 'display_data';\n",
              "        await google.colab.output.renderOutput(dataTable, element);\n",
              "        const docLink = document.createElement('div');\n",
              "        docLink.innerHTML = docLinkHtml;\n",
              "        element.appendChild(docLink);\n",
              "      }\n",
              "    </script>\n",
              "  </div>\n",
              "\n",
              "\n",
              "<div id=\"df-503c2758-8f32-4a81-a385-e8e149c4672f\">\n",
              "  <button class=\"colab-df-quickchart\" onclick=\"quickchart('df-503c2758-8f32-4a81-a385-e8e149c4672f')\"\n",
              "            title=\"Suggest charts\"\n",
              "            style=\"display:none;\">\n",
              "\n",
              "<svg xmlns=\"http://www.w3.org/2000/svg\" height=\"24px\"viewBox=\"0 0 24 24\"\n",
              "     width=\"24px\">\n",
              "    <g>\n",
              "        <path d=\"M19 3H5c-1.1 0-2 .9-2 2v14c0 1.1.9 2 2 2h14c1.1 0 2-.9 2-2V5c0-1.1-.9-2-2-2zM9 17H7v-7h2v7zm4 0h-2V7h2v10zm4 0h-2v-4h2v4z\"/>\n",
              "    </g>\n",
              "</svg>\n",
              "  </button>\n",
              "\n",
              "<style>\n",
              "  .colab-df-quickchart {\n",
              "      --bg-color: #E8F0FE;\n",
              "      --fill-color: #1967D2;\n",
              "      --hover-bg-color: #E2EBFA;\n",
              "      --hover-fill-color: #174EA6;\n",
              "      --disabled-fill-color: #AAA;\n",
              "      --disabled-bg-color: #DDD;\n",
              "  }\n",
              "\n",
              "  [theme=dark] .colab-df-quickchart {\n",
              "      --bg-color: #3B4455;\n",
              "      --fill-color: #D2E3FC;\n",
              "      --hover-bg-color: #434B5C;\n",
              "      --hover-fill-color: #FFFFFF;\n",
              "      --disabled-bg-color: #3B4455;\n",
              "      --disabled-fill-color: #666;\n",
              "  }\n",
              "\n",
              "  .colab-df-quickchart {\n",
              "    background-color: var(--bg-color);\n",
              "    border: none;\n",
              "    border-radius: 50%;\n",
              "    cursor: pointer;\n",
              "    display: none;\n",
              "    fill: var(--fill-color);\n",
              "    height: 32px;\n",
              "    padding: 0;\n",
              "    width: 32px;\n",
              "  }\n",
              "\n",
              "  .colab-df-quickchart:hover {\n",
              "    background-color: var(--hover-bg-color);\n",
              "    box-shadow: 0 1px 2px rgba(60, 64, 67, 0.3), 0 1px 3px 1px rgba(60, 64, 67, 0.15);\n",
              "    fill: var(--button-hover-fill-color);\n",
              "  }\n",
              "\n",
              "  .colab-df-quickchart-complete:disabled,\n",
              "  .colab-df-quickchart-complete:disabled:hover {\n",
              "    background-color: var(--disabled-bg-color);\n",
              "    fill: var(--disabled-fill-color);\n",
              "    box-shadow: none;\n",
              "  }\n",
              "\n",
              "  .colab-df-spinner {\n",
              "    border: 2px solid var(--fill-color);\n",
              "    border-color: transparent;\n",
              "    border-bottom-color: var(--fill-color);\n",
              "    animation:\n",
              "      spin 1s steps(1) infinite;\n",
              "  }\n",
              "\n",
              "  @keyframes spin {\n",
              "    0% {\n",
              "      border-color: transparent;\n",
              "      border-bottom-color: var(--fill-color);\n",
              "      border-left-color: var(--fill-color);\n",
              "    }\n",
              "    20% {\n",
              "      border-color: transparent;\n",
              "      border-left-color: var(--fill-color);\n",
              "      border-top-color: var(--fill-color);\n",
              "    }\n",
              "    30% {\n",
              "      border-color: transparent;\n",
              "      border-left-color: var(--fill-color);\n",
              "      border-top-color: var(--fill-color);\n",
              "      border-right-color: var(--fill-color);\n",
              "    }\n",
              "    40% {\n",
              "      border-color: transparent;\n",
              "      border-right-color: var(--fill-color);\n",
              "      border-top-color: var(--fill-color);\n",
              "    }\n",
              "    60% {\n",
              "      border-color: transparent;\n",
              "      border-right-color: var(--fill-color);\n",
              "    }\n",
              "    80% {\n",
              "      border-color: transparent;\n",
              "      border-right-color: var(--fill-color);\n",
              "      border-bottom-color: var(--fill-color);\n",
              "    }\n",
              "    90% {\n",
              "      border-color: transparent;\n",
              "      border-bottom-color: var(--fill-color);\n",
              "    }\n",
              "  }\n",
              "</style>\n",
              "\n",
              "  <script>\n",
              "    async function quickchart(key) {\n",
              "      const quickchartButtonEl =\n",
              "        document.querySelector('#' + key + ' button');\n",
              "      quickchartButtonEl.disabled = true;  // To prevent multiple clicks.\n",
              "      quickchartButtonEl.classList.add('colab-df-spinner');\n",
              "      try {\n",
              "        const charts = await google.colab.kernel.invokeFunction(\n",
              "            'suggestCharts', [key], {});\n",
              "      } catch (error) {\n",
              "        console.error('Error during call to suggestCharts:', error);\n",
              "      }\n",
              "      quickchartButtonEl.classList.remove('colab-df-spinner');\n",
              "      quickchartButtonEl.classList.add('colab-df-quickchart-complete');\n",
              "    }\n",
              "    (() => {\n",
              "      let quickchartButtonEl =\n",
              "        document.querySelector('#df-503c2758-8f32-4a81-a385-e8e149c4672f button');\n",
              "      quickchartButtonEl.style.display =\n",
              "        google.colab.kernel.accessAllowed ? 'block' : 'none';\n",
              "    })();\n",
              "  </script>\n",
              "</div>\n",
              "\n",
              "    </div>\n",
              "  </div>\n"
            ],
            "application/vnd.google.colaboratory.intrinsic+json": {
              "type": "dataframe",
              "variable_name": "test",
              "summary": "{\n  \"name\": \"test\",\n  \"rows\": 12,\n  \"fields\": [\n    {\n      \"column\": \"Date\",\n      \"properties\": {\n        \"dtype\": \"date\",\n        \"min\": \"1975-01-01 00:00:00\",\n        \"max\": \"1975-12-01 00:00:00\",\n        \"num_unique_values\": 12,\n        \"samples\": [\n          \"1975-11-01 00:00:00\",\n          \"1975-10-01 00:00:00\",\n          \"1975-01-01 00:00:00\"\n        ],\n        \"semantic_type\": \"\",\n        \"description\": \"\"\n      }\n    },\n    {\n      \"column\": \"Production\",\n      \"properties\": {\n        \"dtype\": \"number\",\n        \"std\": 56,\n        \"min\": 782,\n        \"max\": 966,\n        \"num_unique_values\": 12,\n        \"samples\": [\n          797,\n          827,\n          834\n        ],\n        \"semantic_type\": \"\",\n        \"description\": \"\"\n      }\n    },\n    {\n      \"column\": \"Predictions\",\n      \"properties\": {\n        \"dtype\": \"number\",\n        \"std\": 58.3087480614059,\n        \"min\": 788.1707458496094,\n        \"max\": 949.1133384704591,\n        \"num_unique_values\": 12,\n        \"samples\": [\n          788.1707458496094,\n          810.194881439209,\n          819.5221176147461\n        ],\n        \"semantic_type\": \"\",\n        \"description\": \"\"\n      }\n    }\n  ]\n}"
            }
          },
          "metadata": {},
          "execution_count": 62
        }
      ]
    },
    {
      "cell_type": "code",
      "source": [
        "test.plot(figsize=(14,5))"
      ],
      "metadata": {
        "colab": {
          "base_uri": "https://localhost:8080/",
          "height": 503
        },
        "id": "iS1nM3FMVODM",
        "outputId": "51e59d88-0d33-4acd-c8a8-c5561da8d26f"
      },
      "execution_count": 63,
      "outputs": [
        {
          "output_type": "execute_result",
          "data": {
            "text/plain": [
              "<Axes: xlabel='Date'>"
            ]
          },
          "metadata": {},
          "execution_count": 63
        },
        {
          "output_type": "display_data",
          "data": {
            "text/plain": [
              "<Figure size 1400x500 with 1 Axes>"
            ],
            "image/png": "[encoded data removed]"
          },
          "metadata": {}
        }
      ]
    },
    {
      "cell_type": "code",
      "source": [
        "rmse=sqrt(mean_squared_error(test['Production'],test['Predictions']))\n",
        "print(rmse)"
      ],
      "metadata": {
        "colab": {
          "base_uri": "https://localhost:8080/"
        },
        "id": "sNFbmZsRVVGy",
        "outputId": "2e2e059b-db16-4f0c-ae36-b4c15fe9eb1e"
      },
      "execution_count": 65,
      "outputs": [
        {
          "output_type": "stream",
          "name": "stdout",
          "text": [
            "15.36970265408562\n"
          ]
        }
      ]
    }
  ]
}